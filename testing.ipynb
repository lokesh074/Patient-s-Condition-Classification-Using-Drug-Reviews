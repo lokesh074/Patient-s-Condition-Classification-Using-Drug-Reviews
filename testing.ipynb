{
  "nbformat": 4,
  "nbformat_minor": 0,
  "metadata": {
    "colab": {
      "provenance": []
    },
    "kernelspec": {
      "name": "python3",
      "display_name": "Python 3"
    },
    "language_info": {
      "name": "python"
    }
  },
  "cells": [
    {
      "cell_type": "code",
      "execution_count": 1,
      "metadata": {
        "id": "37fJOFFP95eP"
      },
      "outputs": [],
      "source": [
        "import pandas as pd # data preprocessing\n",
        "import itertools # confusion matrix\n",
        "import string\n",
        "import numpy as np\n",
        "import seaborn as sns\n",
        "import joblib"
      ]
    },
    {
      "cell_type": "code",
      "source": [
        "model = joblib.load('/content/drive/MyDrive/Drug_review/pass_tf.pkl')\n",
        "vectorizer =   joblib.load('/content/drive/MyDrive/Drug_review/tfidf_vectorizer.pkl')"
      ],
      "metadata": {
        "id": "Bbr_OQW7-E5r"
      },
      "execution_count": 2,
      "outputs": []
    },
    {
      "cell_type": "code",
      "source": [
        "text = ['I have been on this birth control for one cycle. After reading some of the reviews on this type and similar birth controls I was a bit apprehensive to start. Im giving this birth control a 9 out of 10 as I have not been on it long enough for a 10. So far I love this birth control! My side effects have been so minimal its like Im not even on birth control! I have experienced mild headaches here and there and some nausea but other than that ive been feeling great! I got my period on cue on the third day of the inactive pills and I had no idea it was coming because I had zero pms! My period was very light and I barely had any cramping! I had unprotected sex the first month and obviously didn&#039;t get pregnant so I&#039;m very pleased! Highly recommend']\n",
        "test = vectorizer.transform(text)\n",
        "prediction=model.predict(test)[0]\n",
        "prediction"
      ],
      "metadata": {
        "colab": {
          "base_uri": "https://localhost:8080/",
          "height": 35
        },
        "id": "WT3fUPa7-PRu",
        "outputId": "c8e0230f-431e-461c-825a-7b8f90f1015c"
      },
      "execution_count": 8,
      "outputs": [
        {
          "output_type": "execute_result",
          "data": {
            "text/plain": [
              "'Birth Control'"
            ],
            "application/vnd.google.colaboratory.intrinsic+json": {
              "type": "string"
            }
          },
          "metadata": {},
          "execution_count": 8
        }
      ]
    },
    {
      "cell_type": "code",
      "source": [],
      "metadata": {
        "id": "XFOGUkso-UOP"
      },
      "execution_count": null,
      "outputs": []
    }
  ]
}